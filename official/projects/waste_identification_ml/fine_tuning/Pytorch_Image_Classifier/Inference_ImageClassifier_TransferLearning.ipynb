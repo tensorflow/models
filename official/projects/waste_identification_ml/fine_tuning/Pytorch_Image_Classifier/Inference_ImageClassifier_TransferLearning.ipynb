{
  "cells": [
    {
      "cell_type": "markdown",
      "source": [
        "# Inference with a Fine-Tuned PyTorch Image Classifier"
      ],
      "metadata": {},
      "id": "N1NoUavARjFo"
    },
    {
      "cell_type": "markdown",
      "source": [
        "In this notebook, we will perform inference using a pretrained image classification model (based on PyTorch) that has been fine-tuned on a custom dataset. The workflow will demonstrate how to load the model, prepare input images, and generate predictions on unseen data.\n",
        "\n",
        "Along the way, we will also evaluate the model’s performance on a held-out test set. To better understand the strengths and weaknesses of the classifier, we will generate and plot a confusion matrix, which visually summarizes prediction results across all classes.\n",
        "\n",
        "By the end of this notebook, you will be able to:\n",
        "\n",
        "*   Load a fine-tuned PyTorch image classifier for inference.\n",
        "*   Preprocess and batch images for evaluation.\n",
        "*   Run predictions and compute evaluation metrics.\n",
        "*   Plot and interpret a confusion matrix to assess model accuracy and misclassifications."
      ],
      "metadata": {},
      "id": "5TrO7kWwQyfw"
    },
    {
      "cell_type": "code",
      "source": [
        "# Connect to Google drive in case the model is stored on it otherwise skip this\n",
        "# step.\n",
        "from google.colab import drive\n",
        "drive.mount('/content/gdrive')\n",
        "\n",
        "try:\n",
        "  !ln -s /content/gdrive/My\\ Drive/ /mydrive\n",
        "  print('Successful')\n",
        "except Exception as e:\n",
        "  print(e)\n",
        "  print('Not successful')"
      ],
      "metadata": {},
      "id": "Jh47hJk4YcI8",
      "execution_count": null,
      "outputs": []
    },
    {
      "cell_type": "code",
      "source": [
        "# Get the inference utils.\n",
        "url = (\n",
        "    \"https://raw.githubusercontent.com/tensorflow/models/refs/heads/master/\"\n",
        "    \"official/projects/waste_identification_ml/fine_tuning/\"\n",
        "    \"Pytorch_Image_Classifier/inference_utils.py\"\n",
        ")\n",
        "!wget {url} \u003e /dev/null 2\u003e\u00261"
      ],
      "metadata": {},
      "id": "IpiZn2kpTSCG",
      "execution_count": null,
      "outputs": []
    },
    {
      "cell_type": "code",
      "source": [
        "import torch\n",
        "import inference_utils\n",
        "import warnings\n",
        "import tqdm\n",
        "import glob\n",
        "import os\n",
        "from sklearn.metrics import confusion_matrix, classification_report\n",
        "\n",
        "warnings.filterwarnings('ignore')\n",
        "warnings.simplefilter('ignore')"
      ],
      "metadata": {},
      "id": "UgJcNwERTvk7",
      "execution_count": null,
      "outputs": []
    },
    {
      "cell_type": "markdown",
      "source": [
        "## Define Model Path, Image Path, and Class Labels"
      ],
      "metadata": {},
      "id": "KDCMUMkyS2hl"
    },
    {
      "cell_type": "code",
      "source": [
        "# Change the paths and labels according to your case.\n",
        "MODEL_PATH = \"/mydrive/LLM/pet_grade_bottles/best_vit_model_epoch_10.pt\"\n",
        "CLASS_NAMES = ['dairy','others']\n",
        "device = \"cuda\" if torch.cuda.is_available() else \"cpu\"\n",
        "\n",
        "input_dir = '/mydrive/LLM/pet_grade_bottles/test_dataset/mixed_bottles_objects_images/'"
      ],
      "metadata": {},
      "id": "qY-_06a3SRn-",
      "execution_count": null,
      "outputs": []
    },
    {
      "cell_type": "code",
      "source": [
        "# Load Model.\n",
        "model = inference_utils.load_vit_classifier(\n",
        "    model_path=MODEL_PATH,\n",
        "    num_classes=len(CLASS_NAMES),\n",
        "    device=device\n",
        ")\n",
        "\n",
        "\n",
        "# Get the same transform used during training\n",
        "transform = inference_utils.get_default_transform(image_size=(224, 224))"
      ],
      "metadata": {},
      "id": "VrqnFlHflXkj",
      "execution_count": null,
      "outputs": []
    },
    {
      "cell_type": "markdown",
      "source": [
        "## Inferencing"
      ],
      "metadata": {},
      "id": "J5Gg7ySxTJKo"
    },
    {
      "cell_type": "code",
      "source": [
        "files = glob.glob(os.path.join(input_dir, '*'))\n",
        "len(files)"
      ],
      "metadata": {},
      "id": "BsQB6hhoSEDV",
      "execution_count": null,
      "outputs": []
    },
    {
      "cell_type": "code",
      "source": [
        "y_pred = [] # Predicted class.\n",
        "y_test = ['dairy'] * len(files) # Actual class.\n",
        "\n",
        "for path in tqdm.tqdm(files):\n",
        "  image_tensor = inference_utils.process_image(image_path=path, transform=transform)\n",
        "  logits = inference_utils.predict(model=model, image_tensor=image_tensor, device=device)\n",
        "  pred_class, pred_prob = inference_utils.get_prediction_details(\n",
        "      logits=logits,\n",
        "      class_names=CLASS_NAMES\n",
        "  )\n",
        "  print(f\"  - Class: {pred_class}\")\n",
        "  print(f\"  - Probability: {pred_prob:.4f}\")\n",
        "  inference_utils.plot_prediction(\n",
        "    image_path=path,\n",
        "    pred_class=pred_class,\n",
        "    pred_prob=pred_prob\n",
        "  )\n",
        "\n",
        "  y_pred.append(pred_class)"
      ],
      "metadata": {},
      "id": "EMugCXTarVoK",
      "execution_count": null,
      "outputs": []
    },
    {
      "cell_type": "markdown",
      "source": [
        "## Visualize metric"
      ],
      "metadata": {},
      "id": "63iWRkUdh-EE"
    },
    {
      "cell_type": "code",
      "source": [
        "# Show classification report.\n",
        "print(classification_report(y_test, y_pred, target_names=CLASS_NAMES))"
      ],
      "metadata": {},
      "id": "wbGP_nkS3mw-",
      "execution_count": null,
      "outputs": []
    },
    {
      "cell_type": "code",
      "source": [
        "# Show confusion matrix.\n",
        "matrix = confusion_matrix(y_test, y_pred)\n",
        "inference_utils.show_confusion_matrix(matrix, CLASS_NAMES)"
      ],
      "metadata": {},
      "id": "fYHVJxfT366l",
      "execution_count": null,
      "outputs": []
    }
  ],
  "metadata": {
    "kernelspec": {
      "display_name": "Python 3",
      "name": "python3"
    },
    "language_info": {
      "codemirror_mode": {
        "name": "ipython",
        "version": 3
      },
      "file_extension": ".py",
      "mimetype": "text/x-python",
      "name": "python",
      "nbconvert_exporter": "python",
      "pygments_lexer": "ipython3",
      "version": "3.9.10"
    },
    "colab": {
      "provenance": [
        {
          "file_id": "1I9vJPJczdHwcvtDqVm7WRg1y35fqPNvA",
          "timestamp": 1757966350752
        }
      ],
      "gpuType": "T4"
    },
    "accelerator": "GPU"
  },
  "nbformat": 4,
  "nbformat_minor": 5
}
